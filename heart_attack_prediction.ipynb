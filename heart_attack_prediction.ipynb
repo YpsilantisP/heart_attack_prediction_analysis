{
 "cells": [
  {
   "cell_type": "markdown",
   "metadata": {},
   "source": [
    "# heart_attack_prediction_analysis"
   ]
  },
  {
   "cell_type": "code",
   "execution_count": 27,
   "metadata": {},
   "outputs": [],
   "source": [
    "import pandas as pd\n",
    "import os\n",
    "import seaborn as sns\n",
    "import matplotlib.pyplot as plt\n",
    "import statsmodels.api as sm\n",
    "\n",
    "from sklearn.metrics import confusion_matrix\n",
    "from sklearn.metrics import accuracy_score, precision_score, recall_score, f1_score\n",
    "from sklearn.model_selection import train_test_split\n",
    "from sklearn.linear_model import LogisticRegression\n",
    "from sklearn.svm import LinearSVC, SVC\n",
    "from sklearn.preprocessing import StandardScaler\n",
    "from sklearn.neural_network import MLPClassifier\n",
    "from matplotlib.cbook import boxplot_stats"
   ]
  },
  {
   "cell_type": "code",
   "execution_count": 3,
   "metadata": {},
   "outputs": [],
   "source": [
    "df = pd.read_csv(os.path.join(os.getcwd(),'heart.csv'))"
   ]
  },
  {
   "cell_type": "code",
   "execution_count": 4,
   "metadata": {
    "scrolled": false
   },
   "outputs": [
    {
     "name": "stdout",
     "output_type": "stream",
     "text": [
      "This DataFrame has 303 rows and 14 columns\n"
     ]
    },
    {
     "data": {
      "text/html": [
       "<div>\n",
       "<style scoped>\n",
       "    .dataframe tbody tr th:only-of-type {\n",
       "        vertical-align: middle;\n",
       "    }\n",
       "\n",
       "    .dataframe tbody tr th {\n",
       "        vertical-align: top;\n",
       "    }\n",
       "\n",
       "    .dataframe thead th {\n",
       "        text-align: right;\n",
       "    }\n",
       "</style>\n",
       "<table border=\"1\" class=\"dataframe\">\n",
       "  <thead>\n",
       "    <tr style=\"text-align: right;\">\n",
       "      <th></th>\n",
       "      <th>age</th>\n",
       "      <th>sex</th>\n",
       "      <th>cp</th>\n",
       "      <th>trtbps</th>\n",
       "      <th>chol</th>\n",
       "      <th>fbs</th>\n",
       "      <th>restecg</th>\n",
       "      <th>thalachh</th>\n",
       "      <th>exng</th>\n",
       "      <th>oldpeak</th>\n",
       "      <th>slp</th>\n",
       "      <th>caa</th>\n",
       "      <th>thall</th>\n",
       "      <th>output</th>\n",
       "    </tr>\n",
       "  </thead>\n",
       "  <tbody>\n",
       "    <tr>\n",
       "      <th>0</th>\n",
       "      <td>63</td>\n",
       "      <td>1</td>\n",
       "      <td>3</td>\n",
       "      <td>145</td>\n",
       "      <td>233</td>\n",
       "      <td>1</td>\n",
       "      <td>0</td>\n",
       "      <td>150</td>\n",
       "      <td>0</td>\n",
       "      <td>2.3</td>\n",
       "      <td>0</td>\n",
       "      <td>0</td>\n",
       "      <td>1</td>\n",
       "      <td>1</td>\n",
       "    </tr>\n",
       "    <tr>\n",
       "      <th>1</th>\n",
       "      <td>37</td>\n",
       "      <td>1</td>\n",
       "      <td>2</td>\n",
       "      <td>130</td>\n",
       "      <td>250</td>\n",
       "      <td>0</td>\n",
       "      <td>1</td>\n",
       "      <td>187</td>\n",
       "      <td>0</td>\n",
       "      <td>3.5</td>\n",
       "      <td>0</td>\n",
       "      <td>0</td>\n",
       "      <td>2</td>\n",
       "      <td>1</td>\n",
       "    </tr>\n",
       "    <tr>\n",
       "      <th>2</th>\n",
       "      <td>41</td>\n",
       "      <td>0</td>\n",
       "      <td>1</td>\n",
       "      <td>130</td>\n",
       "      <td>204</td>\n",
       "      <td>0</td>\n",
       "      <td>0</td>\n",
       "      <td>172</td>\n",
       "      <td>0</td>\n",
       "      <td>1.4</td>\n",
       "      <td>2</td>\n",
       "      <td>0</td>\n",
       "      <td>2</td>\n",
       "      <td>1</td>\n",
       "    </tr>\n",
       "    <tr>\n",
       "      <th>3</th>\n",
       "      <td>56</td>\n",
       "      <td>1</td>\n",
       "      <td>1</td>\n",
       "      <td>120</td>\n",
       "      <td>236</td>\n",
       "      <td>0</td>\n",
       "      <td>1</td>\n",
       "      <td>178</td>\n",
       "      <td>0</td>\n",
       "      <td>0.8</td>\n",
       "      <td>2</td>\n",
       "      <td>0</td>\n",
       "      <td>2</td>\n",
       "      <td>1</td>\n",
       "    </tr>\n",
       "    <tr>\n",
       "      <th>4</th>\n",
       "      <td>57</td>\n",
       "      <td>0</td>\n",
       "      <td>0</td>\n",
       "      <td>120</td>\n",
       "      <td>354</td>\n",
       "      <td>0</td>\n",
       "      <td>1</td>\n",
       "      <td>163</td>\n",
       "      <td>1</td>\n",
       "      <td>0.6</td>\n",
       "      <td>2</td>\n",
       "      <td>0</td>\n",
       "      <td>2</td>\n",
       "      <td>1</td>\n",
       "    </tr>\n",
       "  </tbody>\n",
       "</table>\n",
       "</div>"
      ],
      "text/plain": [
       "   age  sex  cp  trtbps  chol  fbs  restecg  thalachh  exng  oldpeak  slp  \\\n",
       "0   63    1   3     145   233    1        0       150     0      2.3    0   \n",
       "1   37    1   2     130   250    0        1       187     0      3.5    0   \n",
       "2   41    0   1     130   204    0        0       172     0      1.4    2   \n",
       "3   56    1   1     120   236    0        1       178     0      0.8    2   \n",
       "4   57    0   0     120   354    0        1       163     1      0.6    2   \n",
       "\n",
       "   caa  thall  output  \n",
       "0    0      1       1  \n",
       "1    0      2       1  \n",
       "2    0      2       1  \n",
       "3    0      2       1  \n",
       "4    0      2       1  "
      ]
     },
     "execution_count": 4,
     "metadata": {},
     "output_type": "execute_result"
    }
   ],
   "source": [
    "print('This DataFrame has {} rows and {} columns'.format(df.shape[0],df.shape[1]))\n",
    "df.head(5)"
   ]
  },
  {
   "cell_type": "markdown",
   "metadata": {},
   "source": [
    "### <font color='red'>Data Cleaning</font>"
   ]
  },
  {
   "cell_type": "code",
   "execution_count": 8,
   "metadata": {
    "scrolled": false
   },
   "outputs": [
    {
     "name": "stdout",
     "output_type": "stream",
     "text": [
      "age           int64\n",
      "sex           int64\n",
      "cp            int64\n",
      "trtbps        int64\n",
      "chol          int64\n",
      "fbs           int64\n",
      "restecg       int64\n",
      "thalachh      int64\n",
      "exng          int64\n",
      "oldpeak     float64\n",
      "slp           int64\n",
      "caa           int64\n",
      "thall         int64\n",
      "output        int64\n",
      "dtype: object\n",
      "\n",
      "\n",
      "Checking for Null: Did not find null values\n",
      "\n",
      "Check if there is any duplicates: False\n"
     ]
    }
   ],
   "source": [
    "print('{}\\n'.format(df.dtypes))\n",
    "\n",
    "x = ['Found null values' if df.isnull == True else 'Did not find null values']\n",
    "print('\\nChecking for Null: {}'.format(x[0]))\n",
    "\n",
    "print('\\nCheck if there is any duplicates: {}'.format(df.duplicated().any()))\n",
    "\n",
    "if df.duplicated().any() == True:\n",
    "    df.drop_duplicates(inplace=True)"
   ]
  },
  {
   "cell_type": "markdown",
   "metadata": {},
   "source": [
    "### <font color='red'>Data exploration</font>"
   ]
  },
  {
   "cell_type": "code",
   "execution_count": 9,
   "metadata": {},
   "outputs": [
    {
     "data": {
      "text/plain": [
       "<AxesSubplot:title={'center':'Counts of target label'}, xlabel='output', ylabel='count'>"
      ]
     },
     "execution_count": 9,
     "metadata": {},
     "output_type": "execute_result"
    },
    {
     "data": {
      "image/png": "[encoded data removed]",
      "text/plain": [
       "<Figure size 504x360 with 1 Axes>"
      ]
     },
     "metadata": {
      "needs_background": "light"
     },
     "output_type": "display_data"
    }
   ],
   "source": [
    "#draw counts plot \n",
    "fig = plt.figure(figsize=(7,5))\n",
    "plt.title('Counts of target label')\n",
    "counts_table = df.output\n",
    "sns.countplot(x= counts_table,  palette=['#fc8d62', '#8da0cb'], edgecolor='k')"
   ]
  },
  {
   "cell_type": "markdown",
   "metadata": {},
   "source": [
    "### accuracy can work as class distribution is symmetric"
   ]
  },
  {
   "cell_type": "code",
   "execution_count": 17,
   "metadata": {},
   "outputs": [
    {
     "name": "stdout",
     "output_type": "stream",
     "text": [
      "count    302.00000\n",
      "mean      54.42053\n",
      "std        9.04797\n",
      "min       29.00000\n",
      "25%       48.00000\n",
      "50%       55.50000\n",
      "75%       61.00000\n",
      "max       77.00000\n",
      "Name: age, dtype: float64\n",
      "\n",
      "Coefficient of variation (CV) shows: Small STD\n"
     ]
    },
    {
     "data": {
      "image/png": "[encoded data removed]",
      "text/plain": [
       "<Figure size 540x360 with 1 Axes>"
      ]
     },
     "metadata": {
      "needs_background": "light"
     },
     "output_type": "display_data"
    }
   ],
   "source": [
    "sns.displot(df['age'], aspect = 1.5, kde=True)\n",
    "print(df['age'].describe())\n",
    "# As a rule of thumb, a CV >= 1 indicates a relatively high variation, with CV = std/mean\n",
    "cv = ['Small STD' if df['age'].describe()[2]/df['age'].describe()[1] < 1 else 'High STD']\n",
    "print('\\nCoefficient of variation (CV) shows: {}'.format(cv[0]))"
   ]
  },
  {
   "cell_type": "markdown",
   "metadata": {},
   "source": [
    "#### The majority of people included in our sample are ranging most from 44 to nearly 68."
   ]
  },
  {
   "cell_type": "code",
   "execution_count": 20,
   "metadata": {},
   "outputs": [
    {
     "data": {
      "image/png": "[encoded data removed]",
      "text/plain": [
       "<Figure size 576x432 with 1 Axes>"
      ]
     },
     "metadata": {
      "needs_background": "light"
     },
     "output_type": "display_data"
    }
   ],
   "source": [
    "# Drawing boxplot to observe outliers\n",
    "\n",
    "fig = plt.figure(figsize=(8,6))\n",
    "plt.title('Boxplots of continuous attributes')\n",
    "attributes = ['trtbps', 'chol', 'thalachh', 'oldpeak' ]\n",
    "data = df[attributes]\n",
    "sns.boxplot(data=data, palette='Set2',saturation=1)\n",
    "plt.show()"
   ]
  },
  {
   "cell_type": "markdown",
   "metadata": {},
   "source": [
    "#### Cholesterol seem to have some extreme outliers"
   ]
  },
  {
   "cell_type": "code",
   "execution_count": 28,
   "metadata": {},
   "outputs": [],
   "source": [
    "# remove rows from heart_df dataframe with 'chol' outliers\n",
    "\n",
    "chol_outliers = boxplot_stats(df['chol'])[0]['fliers']\n",
    "df = df[~df['chol'].isin(chol_outliers)]"
   ]
  },
  {
   "cell_type": "code",
   "execution_count": 29,
   "metadata": {},
   "outputs": [
    {
     "data": {
      "image/png": "[encoded data removed]",
      "text/plain": [
       "<Figure size 576x432 with 1 Axes>"
      ]
     },
     "metadata": {
      "needs_background": "light"
     },
     "output_type": "display_data"
    }
   ],
   "source": [
    "#plot the distributioin of sexes against the target label\n",
    "\n",
    "fig, axs = plt.subplots(1, 1, figsize=(8,6))\n",
    "plt.title('Sex distibution vs heart failure prediction')\n",
    "plt.xticks(ticks = [0.1,0.9], labels=['No Heart Failure ','Heart Failure'] )\n",
    "sns.histplot(data= df, x = 'output', hue='sex', legend=False,\n",
    "            palette=['#fc8d62', '#8da0cb'], multiple='dodge', ax=axs)\n",
    "plt.legend(title='Sex', loc='center', labels=['Male', 'Female'])\n",
    "axs.grid(axis='y')\n",
    "plt.show()"
   ]
  },
  {
   "cell_type": "code",
   "execution_count": 30,
   "metadata": {
    "scrolled": false
   },
   "outputs": [
    {
     "data": {
      "text/html": [
       "<style  type=\"text/css\" >\n",
       "#T_e40f3_row0_col0,#T_e40f3_row1_col1,#T_e40f3_row2_col2,#T_e40f3_row3_col3,#T_e40f3_row4_col4,#T_e40f3_row5_col5,#T_e40f3_row6_col6,#T_e40f3_row7_col7,#T_e40f3_row8_col8,#T_e40f3_row9_col9,#T_e40f3_row10_col10,#T_e40f3_row11_col11,#T_e40f3_row12_col12,#T_e40f3_row13_col13{\n",
       "            background-color:  #08306b;\n",
       "            color:  #f1f1f1;\n",
       "        }#T_e40f3_row0_col1{\n",
       "            background-color:  #d6e6f4;\n",
       "            color:  #000000;\n",
       "        }#T_e40f3_row0_col2,#T_e40f3_row1_col0,#T_e40f3_row3_col4,#T_e40f3_row5_col12{\n",
       "            background-color:  #c9ddf0;\n",
       "            color:  #000000;\n",
       "        }#T_e40f3_row0_col3,#T_e40f3_row0_col8,#T_e40f3_row4_col8,#T_e40f3_row5_col9{\n",
       "            background-color:  #9fcae1;\n",
       "            color:  #000000;\n",
       "        }#T_e40f3_row0_col4,#T_e40f3_row1_col7{\n",
       "            background-color:  #c3daee;\n",
       "            color:  #000000;\n",
       "        }#T_e40f3_row0_col5{\n",
       "            background-color:  #d3e3f3;\n",
       "            color:  #000000;\n",
       "        }#T_e40f3_row0_col6,#T_e40f3_row4_col6{\n",
       "            background-color:  #f5f9fe;\n",
       "            color:  #000000;\n",
       "        }#T_e40f3_row0_col7,#T_e40f3_row1_col4,#T_e40f3_row3_col6,#T_e40f3_row6_col5,#T_e40f3_row7_col0,#T_e40f3_row8_col2,#T_e40f3_row8_col13,#T_e40f3_row9_col10,#T_e40f3_row10_col9,#T_e40f3_row13_col1,#T_e40f3_row13_col3,#T_e40f3_row13_col8,#T_e40f3_row13_col11,#T_e40f3_row13_col12{\n",
       "            background-color:  #f7fbff;\n",
       "            color:  #000000;\n",
       "        }#T_e40f3_row0_col9,#T_e40f3_row7_col2{\n",
       "            background-color:  #6dafd7;\n",
       "            color:  #000000;\n",
       "        }#T_e40f3_row0_col10,#T_e40f3_row5_col1{\n",
       "            background-color:  #c2d9ee;\n",
       "            color:  #000000;\n",
       "        }#T_e40f3_row0_col11,#T_e40f3_row11_col0,#T_e40f3_row11_col9{\n",
       "            background-color:  #69add5;\n",
       "            color:  #000000;\n",
       "        }#T_e40f3_row0_col12{\n",
       "            background-color:  #b7d4ea;\n",
       "            color:  #000000;\n",
       "        }#T_e40f3_row0_col13,#T_e40f3_row2_col6{\n",
       "            background-color:  #dce9f6;\n",
       "            color:  #000000;\n",
       "        }#T_e40f3_row1_col2,#T_e40f3_row2_col0,#T_e40f3_row3_col5{\n",
       "            background-color:  #c8dcf0;\n",
       "            color:  #000000;\n",
       "        }#T_e40f3_row1_col3{\n",
       "            background-color:  #e7f1fa;\n",
       "            color:  #000000;\n",
       "        }#T_e40f3_row1_col5,#T_e40f3_row10_col8,#T_e40f3_row11_col7,#T_e40f3_row13_col0{\n",
       "            background-color:  #dfebf7;\n",
       "            color:  #000000;\n",
       "        }#T_e40f3_row1_col6,#T_e40f3_row6_col4,#T_e40f3_row11_col13{\n",
       "            background-color:  #f3f8fe;\n",
       "            color:  #000000;\n",
       "        }#T_e40f3_row1_col8,#T_e40f3_row6_col13,#T_e40f3_row9_col12,#T_e40f3_row12_col1{\n",
       "            background-color:  #94c4df;\n",
       "            color:  #000000;\n",
       "        }#T_e40f3_row1_col9,#T_e40f3_row9_col11{\n",
       "            background-color:  #82bbdb;\n",
       "            color:  #000000;\n",
       "        }#T_e40f3_row1_col10,#T_e40f3_row6_col9{\n",
       "            background-color:  #aacfe5;\n",
       "            color:  #000000;\n",
       "        }#T_e40f3_row1_col11,#T_e40f3_row8_col11{\n",
       "            background-color:  #9dcae1;\n",
       "            color:  #000000;\n",
       "        }#T_e40f3_row1_col12{\n",
       "            background-color:  #8abfdd;\n",
       "            color:  #000000;\n",
       "        }#T_e40f3_row1_col13,#T_e40f3_row12_col6{\n",
       "            background-color:  #e3eef9;\n",
       "            color:  #000000;\n",
       "        }#T_e40f3_row2_col1,#T_e40f3_row10_col6{\n",
       "            background-color:  #d4e4f4;\n",
       "            color:  #000000;\n",
       "        }#T_e40f3_row2_col3,#T_e40f3_row12_col4{\n",
       "            background-color:  #d5e5f4;\n",
       "            color:  #000000;\n",
       "        }#T_e40f3_row2_col4,#T_e40f3_row5_col6{\n",
       "            background-color:  #f2f7fd;\n",
       "            color:  #000000;\n",
       "        }#T_e40f3_row2_col5{\n",
       "            background-color:  #d8e7f5;\n",
       "            color:  #000000;\n",
       "        }#T_e40f3_row2_col7{\n",
       "            background-color:  #6caed6;\n",
       "            color:  #000000;\n",
       "        }#T_e40f3_row2_col8,#T_e40f3_row6_col3{\n",
       "            background-color:  #f2f8fd;\n",
       "            color:  #000000;\n",
       "        }#T_e40f3_row2_col9{\n",
       "            background-color:  #bed8ec;\n",
       "            color:  #000000;\n",
       "        }#T_e40f3_row2_col10{\n",
       "            background-color:  #85bcdc;\n",
       "            color:  #000000;\n",
       "        }#T_e40f3_row2_col11{\n",
       "            background-color:  #d9e8f5;\n",
       "            color:  #000000;\n",
       "        }#T_e40f3_row2_col12,#T_e40f3_row10_col4{\n",
       "            background-color:  #dceaf6;\n",
       "            color:  #000000;\n",
       "        }#T_e40f3_row2_col13{\n",
       "            background-color:  #4a98c9;\n",
       "            color:  #000000;\n",
       "        }#T_e40f3_row3_col0,#T_e40f3_row12_col9{\n",
       "            background-color:  #6fb0d7;\n",
       "            color:  #000000;\n",
       "        }#T_e40f3_row3_col1,#T_e40f3_row7_col12,#T_e40f3_row9_col2,#T_e40f3_row10_col12,#T_e40f3_row11_col4,#T_e40f3_row12_col3{\n",
       "            background-color:  #d3e4f3;\n",
       "            color:  #000000;\n",
       "        }#T_e40f3_row3_col2,#T_e40f3_row5_col8,#T_e40f3_row5_col10,#T_e40f3_row6_col7,#T_e40f3_row11_col1{\n",
       "            background-color:  #afd1e7;\n",
       "            color:  #000000;\n",
       "        }#T_e40f3_row3_col7,#T_e40f3_row4_col3,#T_e40f3_row6_col8,#T_e40f3_row6_col12{\n",
       "            background-color:  #c6dbef;\n",
       "            color:  #000000;\n",
       "        }#T_e40f3_row3_col8{\n",
       "            background-color:  #a5cde3;\n",
       "            color:  #000000;\n",
       "        }#T_e40f3_row3_col9{\n",
       "            background-color:  #71b1d7;\n",
       "            color:  #000000;\n",
       "        }#T_e40f3_row3_col10{\n",
       "            background-color:  #bad6eb;\n",
       "            color:  #000000;\n",
       "        }#T_e40f3_row3_col11{\n",
       "            background-color:  #a6cee4;\n",
       "            color:  #000000;\n",
       "        }#T_e40f3_row3_col12,#T_e40f3_row12_col10{\n",
       "            background-color:  #b5d4e9;\n",
       "            color:  #000000;\n",
       "        }#T_e40f3_row3_col13,#T_e40f3_row8_col10{\n",
       "            background-color:  #d0e1f2;\n",
       "            color:  #000000;\n",
       "        }#T_e40f3_row4_col0,#T_e40f3_row8_col12{\n",
       "            background-color:  #91c3de;\n",
       "            color:  #000000;\n",
       "        }#T_e40f3_row4_col1{\n",
       "            background-color:  #deebf7;\n",
       "            color:  #000000;\n",
       "        }#T_e40f3_row4_col2,#T_e40f3_row10_col11{\n",
       "            background-color:  #ccdff1;\n",
       "            color:  #000000;\n",
       "        }#T_e40f3_row4_col5,#T_e40f3_row7_col3,#T_e40f3_row7_col4{\n",
       "            background-color:  #e7f0fa;\n",
       "            color:  #000000;\n",
       "        }#T_e40f3_row4_col7{\n",
       "            background-color:  #c1d9ed;\n",
       "            color:  #000000;\n",
       "        }#T_e40f3_row4_col9,#T_e40f3_row5_col0,#T_e40f3_row11_col12{\n",
       "            background-color:  #a0cbe2;\n",
       "            color:  #000000;\n",
       "        }#T_e40f3_row4_col10{\n",
       "            background-color:  #9cc9e1;\n",
       "            color:  #000000;\n",
       "        }#T_e40f3_row4_col11{\n",
       "            background-color:  #a9cfe5;\n",
       "            color:  #000000;\n",
       "        }#T_e40f3_row4_col12{\n",
       "            background-color:  #b4d3e9;\n",
       "            color:  #000000;\n",
       "        }#T_e40f3_row4_col13,#T_e40f3_row13_col6{\n",
       "            background-color:  #cbdef1;\n",
       "            color:  #000000;\n",
       "        }#T_e40f3_row5_col2{\n",
       "            background-color:  #a8cee4;\n",
       "            color:  #000000;\n",
       "        }#T_e40f3_row5_col3,#T_e40f3_row5_col7{\n",
       "            background-color:  #bcd7eb;\n",
       "            color:  #000000;\n",
       "        }#T_e40f3_row5_col4,#T_e40f3_row9_col4{\n",
       "            background-color:  #e0ecf8;\n",
       "            color:  #000000;\n",
       "        }#T_e40f3_row5_col11{\n",
       "            background-color:  #97c6df;\n",
       "            color:  #000000;\n",
       "        }#T_e40f3_row5_col13{\n",
       "            background-color:  #bdd7ec;\n",
       "            color:  #000000;\n",
       "        }#T_e40f3_row6_col0,#T_e40f3_row12_col7{\n",
       "            background-color:  #cddff1;\n",
       "            color:  #000000;\n",
       "        }#T_e40f3_row6_col1{\n",
       "            background-color:  #d9e7f5;\n",
       "            color:  #000000;\n",
       "        }#T_e40f3_row6_col2,#T_e40f3_row11_col10{\n",
       "            background-color:  #b3d3e8;\n",
       "            color:  #000000;\n",
       "        }#T_e40f3_row6_col10{\n",
       "            background-color:  #8cc0dd;\n",
       "            color:  #000000;\n",
       "        }#T_e40f3_row6_col11{\n",
       "            background-color:  #caddf0;\n",
       "            color:  #000000;\n",
       "        }#T_e40f3_row7_col1{\n",
       "            background-color:  #d1e2f3;\n",
       "            color:  #000000;\n",
       "        }#T_e40f3_row7_col5{\n",
       "            background-color:  #eaf2fb;\n",
       "            color:  #000000;\n",
       "        }#T_e40f3_row7_col6,#T_e40f3_row7_col9{\n",
       "            background-color:  #dbe9f6;\n",
       "            color:  #000000;\n",
       "        }#T_e40f3_row7_col8,#T_e40f3_row9_col7{\n",
       "            background-color:  #f0f6fd;\n",
       "            color:  #000000;\n",
       "        }#T_e40f3_row7_col10{\n",
       "            background-color:  #4695c8;\n",
       "            color:  #000000;\n",
       "        }#T_e40f3_row7_col11{\n",
       "            background-color:  #dfecf7;\n",
       "            color:  #000000;\n",
       "        }#T_e40f3_row7_col13{\n",
       "            background-color:  #4b98ca;\n",
       "            color:  #000000;\n",
       "        }#T_e40f3_row8_col0,#T_e40f3_row10_col2{\n",
       "            background-color:  #a3cce3;\n",
       "            color:  #000000;\n",
       "        }#T_e40f3_row8_col1{\n",
       "            background-color:  #abd0e6;\n",
       "            color:  #000000;\n",
       "        }#T_e40f3_row8_col3,#T_e40f3_row10_col1{\n",
       "            background-color:  #d2e3f3;\n",
       "            color:  #000000;\n",
       "        }#T_e40f3_row8_col4{\n",
       "            background-color:  #d0e2f2;\n",
       "            color:  #000000;\n",
       "        }#T_e40f3_row8_col5{\n",
       "            background-color:  #e3eef8;\n",
       "            color:  #000000;\n",
       "        }#T_e40f3_row8_col6,#T_e40f3_row11_col6{\n",
       "            background-color:  #f1f7fd;\n",
       "            color:  #000000;\n",
       "        }#T_e40f3_row8_col7,#T_e40f3_row10_col3{\n",
       "            background-color:  #f4f9fe;\n",
       "            color:  #000000;\n",
       "        }#T_e40f3_row8_col9{\n",
       "            background-color:  #5aa2cf;\n",
       "            color:  #000000;\n",
       "        }#T_e40f3_row9_col0{\n",
       "            background-color:  #87bddc;\n",
       "            color:  #000000;\n",
       "        }#T_e40f3_row9_col1{\n",
       "            background-color:  #b0d2e7;\n",
       "            color:  #000000;\n",
       "        }#T_e40f3_row9_col3{\n",
       "            background-color:  #b9d6ea;\n",
       "            color:  #000000;\n",
       "        }#T_e40f3_row9_col5{\n",
       "            background-color:  #e6f0f9;\n",
       "            color:  #000000;\n",
       "        }#T_e40f3_row9_col6{\n",
       "            background-color:  #ebf3fb;\n",
       "            color:  #000000;\n",
       "        }#T_e40f3_row9_col8{\n",
       "            background-color:  #68acd5;\n",
       "            color:  #000000;\n",
       "        }#T_e40f3_row9_col13{\n",
       "            background-color:  #f6faff;\n",
       "            color:  #000000;\n",
       "        }#T_e40f3_row10_col0,#T_e40f3_row12_col2{\n",
       "            background-color:  #d6e5f4;\n",
       "            color:  #000000;\n",
       "        }#T_e40f3_row10_col5,#T_e40f3_row13_col4{\n",
       "            background-color:  #f5fafe;\n",
       "            color:  #000000;\n",
       "        }#T_e40f3_row10_col7{\n",
       "            background-color:  #56a0ce;\n",
       "            color:  #000000;\n",
       "        }#T_e40f3_row10_col13{\n",
       "            background-color:  #5da5d1;\n",
       "            color:  #000000;\n",
       "        }#T_e40f3_row11_col2{\n",
       "            background-color:  #dae8f6;\n",
       "            color:  #000000;\n",
       "        }#T_e40f3_row11_col3{\n",
       "            background-color:  #cfe1f2;\n",
       "            color:  #000000;\n",
       "        }#T_e40f3_row11_col5{\n",
       "            background-color:  #cde0f1;\n",
       "            color:  #000000;\n",
       "        }#T_e40f3_row11_col8{\n",
       "            background-color:  #99c7e0;\n",
       "            color:  #000000;\n",
       "        }#T_e40f3_row12_col0{\n",
       "            background-color:  #add0e6;\n",
       "            color:  #000000;\n",
       "        }#T_e40f3_row12_col5{\n",
       "            background-color:  #edf4fc;\n",
       "            color:  #000000;\n",
       "        }#T_e40f3_row12_col8{\n",
       "            background-color:  #81badb;\n",
       "            color:  #000000;\n",
       "        }#T_e40f3_row12_col11{\n",
       "            background-color:  #95c5df;\n",
       "            color:  #000000;\n",
       "        }#T_e40f3_row12_col13{\n",
       "            background-color:  #eaf3fb;\n",
       "            color:  #000000;\n",
       "        }#T_e40f3_row13_col2{\n",
       "            background-color:  #4d99ca;\n",
       "            color:  #000000;\n",
       "        }#T_e40f3_row13_col5{\n",
       "            background-color:  #eef5fc;\n",
       "            color:  #000000;\n",
       "        }#T_e40f3_row13_col7{\n",
       "            background-color:  #4e9acb;\n",
       "            color:  #000000;\n",
       "        }#T_e40f3_row13_col9{\n",
       "            background-color:  #e4eff9;\n",
       "            color:  #000000;\n",
       "        }#T_e40f3_row13_col10{\n",
       "            background-color:  #4f9bcb;\n",
       "            color:  #000000;\n",
       "        }</style><table id=\"T_e40f3_\" ><thead>    <tr>        <th class=\"blank level0\" ></th>        <th class=\"col_heading level0 col0\" >age</th>        <th class=\"col_heading level0 col1\" >sex</th>        <th class=\"col_heading level0 col2\" >cp</th>        <th class=\"col_heading level0 col3\" >trtbps</th>        <th class=\"col_heading level0 col4\" >chol</th>        <th class=\"col_heading level0 col5\" >fbs</th>        <th class=\"col_heading level0 col6\" >restecg</th>        <th class=\"col_heading level0 col7\" >thalachh</th>        <th class=\"col_heading level0 col8\" >exng</th>        <th class=\"col_heading level0 col9\" >oldpeak</th>        <th class=\"col_heading level0 col10\" >slp</th>        <th class=\"col_heading level0 col11\" >caa</th>        <th class=\"col_heading level0 col12\" >thall</th>        <th class=\"col_heading level0 col13\" >output</th>    </tr></thead><tbody>\n",
       "                <tr>\n",
       "                        <th id=\"T_e40f3_level0_row0\" class=\"row_heading level0 row0\" >age</th>\n",
       "                        <td id=\"T_e40f3_row0_col0\" class=\"data row0 col0\" >1.000000</td>\n",
       "                        <td id=\"T_e40f3_row0_col1\" class=\"data row0 col1\" >-0.074602</td>\n",
       "                        <td id=\"T_e40f3_row0_col2\" class=\"data row0 col2\" >-0.066591</td>\n",
       "                        <td id=\"T_e40f3_row0_col3\" class=\"data row0 col3\" >0.284392</td>\n",
       "                        <td id=\"T_e40f3_row0_col4\" class=\"data row0 col4\" >0.170318</td>\n",
       "                        <td id=\"T_e40f3_row0_col5\" class=\"data row0 col5\" >0.117054</td>\n",
       "                        <td id=\"T_e40f3_row0_col6\" class=\"data row0 col6\" >-0.097949</td>\n",
       "                        <td id=\"T_e40f3_row0_col7\" class=\"data row0 col7\" >-0.403864</td>\n",
       "                        <td id=\"T_e40f3_row0_col8\" class=\"data row0 col8\" >0.104076</td>\n",
       "                        <td id=\"T_e40f3_row0_col9\" class=\"data row0 col9\" >0.199731</td>\n",
       "                        <td id=\"T_e40f3_row0_col10\" class=\"data row0 col10\" >-0.162728</td>\n",
       "                        <td id=\"T_e40f3_row0_col11\" class=\"data row0 col11\" >0.304985</td>\n",
       "                        <td id=\"T_e40f3_row0_col12\" class=\"data row0 col12\" >0.060216</td>\n",
       "                        <td id=\"T_e40f3_row0_col13\" class=\"data row0 col13\" >-0.231584</td>\n",
       "            </tr>\n",
       "            <tr>\n",
       "                        <th id=\"T_e40f3_level0_row1\" class=\"row_heading level0 row1\" >sex</th>\n",
       "                        <td id=\"T_e40f3_row1_col0\" class=\"data row1 col0\" >-0.074602</td>\n",
       "                        <td id=\"T_e40f3_row1_col1\" class=\"data row1 col1\" >1.000000</td>\n",
       "                        <td id=\"T_e40f3_row1_col2\" class=\"data row1 col2\" >-0.057130</td>\n",
       "                        <td id=\"T_e40f3_row1_col3\" class=\"data row1 col3\" >-0.052922</td>\n",
       "                        <td id=\"T_e40f3_row1_col4\" class=\"data row1 col4\" >-0.122949</td>\n",
       "                        <td id=\"T_e40f3_row1_col5\" class=\"data row1 col5\" >0.051018</td>\n",
       "                        <td id=\"T_e40f3_row1_col6\" class=\"data row1 col6\" >-0.087396</td>\n",
       "                        <td id=\"T_e40f3_row1_col7\" class=\"data row1 col7\" >-0.040707</td>\n",
       "                        <td id=\"T_e40f3_row1_col8\" class=\"data row1 col8\" >0.140218</td>\n",
       "                        <td id=\"T_e40f3_row1_col9\" class=\"data row1 col9\" >0.120191</td>\n",
       "                        <td id=\"T_e40f3_row1_col10\" class=\"data row1 col10\" >-0.041842</td>\n",
       "                        <td id=\"T_e40f3_row1_col11\" class=\"data row1 col11\" >0.128889</td>\n",
       "                        <td id=\"T_e40f3_row1_col12\" class=\"data row1 col12\" >0.228731</td>\n",
       "                        <td id=\"T_e40f3_row1_col13\" class=\"data row1 col13\" >-0.288353</td>\n",
       "            </tr>\n",
       "            <tr>\n",
       "                        <th id=\"T_e40f3_level0_row2\" class=\"row_heading level0 row2\" >cp</th>\n",
       "                        <td id=\"T_e40f3_row2_col0\" class=\"data row2 col0\" >-0.066591</td>\n",
       "                        <td id=\"T_e40f3_row2_col1\" class=\"data row2 col1\" >-0.057130</td>\n",
       "                        <td id=\"T_e40f3_row2_col2\" class=\"data row2 col2\" >1.000000</td>\n",
       "                        <td id=\"T_e40f3_row2_col3\" class=\"data row2 col3\" >0.053847</td>\n",
       "                        <td id=\"T_e40f3_row2_col4\" class=\"data row2 col4\" >-0.088574</td>\n",
       "                        <td id=\"T_e40f3_row2_col5\" class=\"data row2 col5\" >0.087168</td>\n",
       "                        <td id=\"T_e40f3_row2_col6\" class=\"data row2 col6\" >0.039520</td>\n",
       "                        <td id=\"T_e40f3_row2_col7\" class=\"data row2 col7\" >0.294945</td>\n",
       "                        <td id=\"T_e40f3_row2_col8\" class=\"data row2 col8\" >-0.393833</td>\n",
       "                        <td id=\"T_e40f3_row2_col9\" class=\"data row2 col9\" >-0.139743</td>\n",
       "                        <td id=\"T_e40f3_row2_col10\" class=\"data row2 col10\" >0.111069</td>\n",
       "                        <td id=\"T_e40f3_row2_col11\" class=\"data row2 col11\" >-0.189053</td>\n",
       "                        <td id=\"T_e40f3_row2_col12\" class=\"data row2 col12\" >-0.159387</td>\n",
       "                        <td id=\"T_e40f3_row2_col13\" class=\"data row2 col13\" >0.428845</td>\n",
       "            </tr>\n",
       "            <tr>\n",
       "                        <th id=\"T_e40f3_level0_row3\" class=\"row_heading level0 row3\" >trtbps</th>\n",
       "                        <td id=\"T_e40f3_row3_col0\" class=\"data row3 col0\" >0.284392</td>\n",
       "                        <td id=\"T_e40f3_row3_col1\" class=\"data row3 col1\" >-0.052922</td>\n",
       "                        <td id=\"T_e40f3_row3_col2\" class=\"data row3 col2\" >0.053847</td>\n",
       "                        <td id=\"T_e40f3_row3_col3\" class=\"data row3 col3\" >1.000000</td>\n",
       "                        <td id=\"T_e40f3_row3_col4\" class=\"data row3 col4\" >0.142433</td>\n",
       "                        <td id=\"T_e40f3_row3_col5\" class=\"data row3 col5\" >0.177944</td>\n",
       "                        <td id=\"T_e40f3_row3_col6\" class=\"data row3 col6\" >-0.112744</td>\n",
       "                        <td id=\"T_e40f3_row3_col7\" class=\"data row3 col7\" >-0.048559</td>\n",
       "                        <td id=\"T_e40f3_row3_col8\" class=\"data row3 col8\" >0.071112</td>\n",
       "                        <td id=\"T_e40f3_row3_col9\" class=\"data row3 col9\" >0.190092</td>\n",
       "                        <td id=\"T_e40f3_row3_col10\" class=\"data row3 col10\" >-0.123919</td>\n",
       "                        <td id=\"T_e40f3_row3_col11\" class=\"data row3 col11\" >0.090764</td>\n",
       "                        <td id=\"T_e40f3_row3_col12\" class=\"data row3 col12\" >0.064305</td>\n",
       "                        <td id=\"T_e40f3_row3_col13\" class=\"data row3 col13\" >-0.143787</td>\n",
       "            </tr>\n",
       "            <tr>\n",
       "                        <th id=\"T_e40f3_level0_row4\" class=\"row_heading level0 row4\" >chol</th>\n",
       "                        <td id=\"T_e40f3_row4_col0\" class=\"data row4 col0\" >0.170318</td>\n",
       "                        <td id=\"T_e40f3_row4_col1\" class=\"data row4 col1\" >-0.122949</td>\n",
       "                        <td id=\"T_e40f3_row4_col2\" class=\"data row4 col2\" >-0.088574</td>\n",
       "                        <td id=\"T_e40f3_row4_col3\" class=\"data row4 col3\" >0.142433</td>\n",
       "                        <td id=\"T_e40f3_row4_col4\" class=\"data row4 col4\" >1.000000</td>\n",
       "                        <td id=\"T_e40f3_row4_col5\" class=\"data row4 col5\" >0.007385</td>\n",
       "                        <td id=\"T_e40f3_row4_col6\" class=\"data row4 col6\" >-0.099409</td>\n",
       "                        <td id=\"T_e40f3_row4_col7\" class=\"data row4 col7\" >-0.027480</td>\n",
       "                        <td id=\"T_e40f3_row4_col8\" class=\"data row4 col8\" >0.099355</td>\n",
       "                        <td id=\"T_e40f3_row4_col9\" class=\"data row4 col9\" >0.007787</td>\n",
       "                        <td id=\"T_e40f3_row4_col10\" class=\"data row4 col10\" >0.026398</td>\n",
       "                        <td id=\"T_e40f3_row4_col11\" class=\"data row4 col11\" >0.079922</td>\n",
       "                        <td id=\"T_e40f3_row4_col12\" class=\"data row4 col12\" >0.071063</td>\n",
       "                        <td id=\"T_e40f3_row4_col13\" class=\"data row4 col13\" >-0.112667</td>\n",
       "            </tr>\n",
       "            <tr>\n",
       "                        <th id=\"T_e40f3_level0_row5\" class=\"row_heading level0 row5\" >fbs</th>\n",
       "                        <td id=\"T_e40f3_row5_col0\" class=\"data row5 col0\" >0.117054</td>\n",
       "                        <td id=\"T_e40f3_row5_col1\" class=\"data row5 col1\" >0.051018</td>\n",
       "                        <td id=\"T_e40f3_row5_col2\" class=\"data row5 col2\" >0.087168</td>\n",
       "                        <td id=\"T_e40f3_row5_col3\" class=\"data row5 col3\" >0.177944</td>\n",
       "                        <td id=\"T_e40f3_row5_col4\" class=\"data row5 col4\" >0.007385</td>\n",
       "                        <td id=\"T_e40f3_row5_col5\" class=\"data row5 col5\" >1.000000</td>\n",
       "                        <td id=\"T_e40f3_row5_col6\" class=\"data row5 col6\" >-0.082233</td>\n",
       "                        <td id=\"T_e40f3_row5_col7\" class=\"data row5 col7\" >-0.008471</td>\n",
       "                        <td id=\"T_e40f3_row5_col8\" class=\"data row5 col8\" >0.029863</td>\n",
       "                        <td id=\"T_e40f3_row5_col9\" class=\"data row5 col9\" >0.011824</td>\n",
       "                        <td id=\"T_e40f3_row5_col10\" class=\"data row5 col10\" >-0.071037</td>\n",
       "                        <td id=\"T_e40f3_row5_col11\" class=\"data row5 col11\" >0.149165</td>\n",
       "                        <td id=\"T_e40f3_row5_col12\" class=\"data row5 col12\" >-0.025208</td>\n",
       "                        <td id=\"T_e40f3_row5_col13\" class=\"data row5 col13\" >-0.035228</td>\n",
       "            </tr>\n",
       "            <tr>\n",
       "                        <th id=\"T_e40f3_level0_row6\" class=\"row_heading level0 row6\" >restecg</th>\n",
       "                        <td id=\"T_e40f3_row6_col0\" class=\"data row6 col0\" >-0.097949</td>\n",
       "                        <td id=\"T_e40f3_row6_col1\" class=\"data row6 col1\" >-0.087396</td>\n",
       "                        <td id=\"T_e40f3_row6_col2\" class=\"data row6 col2\" >0.039520</td>\n",
       "                        <td id=\"T_e40f3_row6_col3\" class=\"data row6 col3\" >-0.112744</td>\n",
       "                        <td id=\"T_e40f3_row6_col4\" class=\"data row6 col4\" >-0.099409</td>\n",
       "                        <td id=\"T_e40f3_row6_col5\" class=\"data row6 col5\" >-0.082233</td>\n",
       "                        <td id=\"T_e40f3_row6_col6\" class=\"data row6 col6\" >1.000000</td>\n",
       "                        <td id=\"T_e40f3_row6_col7\" class=\"data row6 col7\" >0.046088</td>\n",
       "                        <td id=\"T_e40f3_row6_col8\" class=\"data row6 col8\" >-0.074527</td>\n",
       "                        <td id=\"T_e40f3_row6_col9\" class=\"data row6 col9\" >-0.044702</td>\n",
       "                        <td id=\"T_e40f3_row6_col10\" class=\"data row6 col10\" >0.086093</td>\n",
       "                        <td id=\"T_e40f3_row6_col11\" class=\"data row6 col11\" >-0.076680</td>\n",
       "                        <td id=\"T_e40f3_row6_col12\" class=\"data row6 col12\" >-0.002643</td>\n",
       "                        <td id=\"T_e40f3_row6_col13\" class=\"data row6 col13\" >0.139110</td>\n",
       "            </tr>\n",
       "            <tr>\n",
       "                        <th id=\"T_e40f3_level0_row7\" class=\"row_heading level0 row7\" >thalachh</th>\n",
       "                        <td id=\"T_e40f3_row7_col0\" class=\"data row7 col0\" >-0.403864</td>\n",
       "                        <td id=\"T_e40f3_row7_col1\" class=\"data row7 col1\" >-0.040707</td>\n",
       "                        <td id=\"T_e40f3_row7_col2\" class=\"data row7 col2\" >0.294945</td>\n",
       "                        <td id=\"T_e40f3_row7_col3\" class=\"data row7 col3\" >-0.048559</td>\n",
       "                        <td id=\"T_e40f3_row7_col4\" class=\"data row7 col4\" >-0.027480</td>\n",
       "                        <td id=\"T_e40f3_row7_col5\" class=\"data row7 col5\" >-0.008471</td>\n",
       "                        <td id=\"T_e40f3_row7_col6\" class=\"data row7 col6\" >0.046088</td>\n",
       "                        <td id=\"T_e40f3_row7_col7\" class=\"data row7 col7\" >1.000000</td>\n",
       "                        <td id=\"T_e40f3_row7_col8\" class=\"data row7 col8\" >-0.377274</td>\n",
       "                        <td id=\"T_e40f3_row7_col9\" class=\"data row7 col9\" >-0.349145</td>\n",
       "                        <td id=\"T_e40f3_row7_col10\" class=\"data row7 col10\" >0.387842</td>\n",
       "                        <td id=\"T_e40f3_row7_col11\" class=\"data row7 col11\" >-0.231558</td>\n",
       "                        <td id=\"T_e40f3_row7_col12\" class=\"data row7 col12\" >-0.097087</td>\n",
       "                        <td id=\"T_e40f3_row7_col13\" class=\"data row7 col13\" >0.421106</td>\n",
       "            </tr>\n",
       "            <tr>\n",
       "                        <th id=\"T_e40f3_level0_row8\" class=\"row_heading level0 row8\" >exng</th>\n",
       "                        <td id=\"T_e40f3_row8_col0\" class=\"data row8 col0\" >0.104076</td>\n",
       "                        <td id=\"T_e40f3_row8_col1\" class=\"data row8 col1\" >0.140218</td>\n",
       "                        <td id=\"T_e40f3_row8_col2\" class=\"data row8 col2\" >-0.393833</td>\n",
       "                        <td id=\"T_e40f3_row8_col3\" class=\"data row8 col3\" >0.071112</td>\n",
       "                        <td id=\"T_e40f3_row8_col4\" class=\"data row8 col4\" >0.099355</td>\n",
       "                        <td id=\"T_e40f3_row8_col5\" class=\"data row8 col5\" >0.029863</td>\n",
       "                        <td id=\"T_e40f3_row8_col6\" class=\"data row8 col6\" >-0.074527</td>\n",
       "                        <td id=\"T_e40f3_row8_col7\" class=\"data row8 col7\" >-0.377274</td>\n",
       "                        <td id=\"T_e40f3_row8_col8\" class=\"data row8 col8\" >1.000000</td>\n",
       "                        <td id=\"T_e40f3_row8_col9\" class=\"data row8 col9\" >0.295739</td>\n",
       "                        <td id=\"T_e40f3_row8_col10\" class=\"data row8 col10\" >-0.258124</td>\n",
       "                        <td id=\"T_e40f3_row8_col11\" class=\"data row8 col11\" >0.124413</td>\n",
       "                        <td id=\"T_e40f3_row8_col12\" class=\"data row8 col12\" >0.206192</td>\n",
       "                        <td id=\"T_e40f3_row8_col13\" class=\"data row8 col13\" >-0.432968</td>\n",
       "            </tr>\n",
       "            <tr>\n",
       "                        <th id=\"T_e40f3_level0_row9\" class=\"row_heading level0 row9\" >oldpeak</th>\n",
       "                        <td id=\"T_e40f3_row9_col0\" class=\"data row9 col0\" >0.199731</td>\n",
       "                        <td id=\"T_e40f3_row9_col1\" class=\"data row9 col1\" >0.120191</td>\n",
       "                        <td id=\"T_e40f3_row9_col2\" class=\"data row9 col2\" >-0.139743</td>\n",
       "                        <td id=\"T_e40f3_row9_col3\" class=\"data row9 col3\" >0.190092</td>\n",
       "                        <td id=\"T_e40f3_row9_col4\" class=\"data row9 col4\" >0.007787</td>\n",
       "                        <td id=\"T_e40f3_row9_col5\" class=\"data row9 col5\" >0.011824</td>\n",
       "                        <td id=\"T_e40f3_row9_col6\" class=\"data row9 col6\" >-0.044702</td>\n",
       "                        <td id=\"T_e40f3_row9_col7\" class=\"data row9 col7\" >-0.349145</td>\n",
       "                        <td id=\"T_e40f3_row9_col8\" class=\"data row9 col8\" >0.295739</td>\n",
       "                        <td id=\"T_e40f3_row9_col9\" class=\"data row9 col9\" >1.000000</td>\n",
       "                        <td id=\"T_e40f3_row9_col10\" class=\"data row9 col10\" >-0.576810</td>\n",
       "                        <td id=\"T_e40f3_row9_col11\" class=\"data row9 col11\" >0.221430</td>\n",
       "                        <td id=\"T_e40f3_row9_col12\" class=\"data row9 col12\" >0.198741</td>\n",
       "                        <td id=\"T_e40f3_row9_col13\" class=\"data row9 col13\" >-0.427227</td>\n",
       "            </tr>\n",
       "            <tr>\n",
       "                        <th id=\"T_e40f3_level0_row10\" class=\"row_heading level0 row10\" >slp</th>\n",
       "                        <td id=\"T_e40f3_row10_col0\" class=\"data row10 col0\" >-0.162728</td>\n",
       "                        <td id=\"T_e40f3_row10_col1\" class=\"data row10 col1\" >-0.041842</td>\n",
       "                        <td id=\"T_e40f3_row10_col2\" class=\"data row10 col2\" >0.111069</td>\n",
       "                        <td id=\"T_e40f3_row10_col3\" class=\"data row10 col3\" >-0.123919</td>\n",
       "                        <td id=\"T_e40f3_row10_col4\" class=\"data row10 col4\" >0.026398</td>\n",
       "                        <td id=\"T_e40f3_row10_col5\" class=\"data row10 col5\" >-0.071037</td>\n",
       "                        <td id=\"T_e40f3_row10_col6\" class=\"data row10 col6\" >0.086093</td>\n",
       "                        <td id=\"T_e40f3_row10_col7\" class=\"data row10 col7\" >0.387842</td>\n",
       "                        <td id=\"T_e40f3_row10_col8\" class=\"data row10 col8\" >-0.258124</td>\n",
       "                        <td id=\"T_e40f3_row10_col9\" class=\"data row10 col9\" >-0.576810</td>\n",
       "                        <td id=\"T_e40f3_row10_col10\" class=\"data row10 col10\" >1.000000</td>\n",
       "                        <td id=\"T_e40f3_row10_col11\" class=\"data row10 col11\" >-0.090155</td>\n",
       "                        <td id=\"T_e40f3_row10_col12\" class=\"data row10 col12\" >-0.096630</td>\n",
       "                        <td id=\"T_e40f3_row10_col13\" class=\"data row10 col13\" >0.344538</td>\n",
       "            </tr>\n",
       "            <tr>\n",
       "                        <th id=\"T_e40f3_level0_row11\" class=\"row_heading level0 row11\" >caa</th>\n",
       "                        <td id=\"T_e40f3_row11_col0\" class=\"data row11 col0\" >0.304985</td>\n",
       "                        <td id=\"T_e40f3_row11_col1\" class=\"data row11 col1\" >0.128889</td>\n",
       "                        <td id=\"T_e40f3_row11_col2\" class=\"data row11 col2\" >-0.189053</td>\n",
       "                        <td id=\"T_e40f3_row11_col3\" class=\"data row11 col3\" >0.090764</td>\n",
       "                        <td id=\"T_e40f3_row11_col4\" class=\"data row11 col4\" >0.079922</td>\n",
       "                        <td id=\"T_e40f3_row11_col5\" class=\"data row11 col5\" >0.149165</td>\n",
       "                        <td id=\"T_e40f3_row11_col6\" class=\"data row11 col6\" >-0.076680</td>\n",
       "                        <td id=\"T_e40f3_row11_col7\" class=\"data row11 col7\" >-0.231558</td>\n",
       "                        <td id=\"T_e40f3_row11_col8\" class=\"data row11 col8\" >0.124413</td>\n",
       "                        <td id=\"T_e40f3_row11_col9\" class=\"data row11 col9\" >0.221430</td>\n",
       "                        <td id=\"T_e40f3_row11_col10\" class=\"data row11 col10\" >-0.090155</td>\n",
       "                        <td id=\"T_e40f3_row11_col11\" class=\"data row11 col11\" >1.000000</td>\n",
       "                        <td id=\"T_e40f3_row11_col12\" class=\"data row11 col12\" >0.151860</td>\n",
       "                        <td id=\"T_e40f3_row11_col13\" class=\"data row11 col13\" >-0.401227</td>\n",
       "            </tr>\n",
       "            <tr>\n",
       "                        <th id=\"T_e40f3_level0_row12\" class=\"row_heading level0 row12\" >thall</th>\n",
       "                        <td id=\"T_e40f3_row12_col0\" class=\"data row12 col0\" >0.060216</td>\n",
       "                        <td id=\"T_e40f3_row12_col1\" class=\"data row12 col1\" >0.228731</td>\n",
       "                        <td id=\"T_e40f3_row12_col2\" class=\"data row12 col2\" >-0.159387</td>\n",
       "                        <td id=\"T_e40f3_row12_col3\" class=\"data row12 col3\" >0.064305</td>\n",
       "                        <td id=\"T_e40f3_row12_col4\" class=\"data row12 col4\" >0.071063</td>\n",
       "                        <td id=\"T_e40f3_row12_col5\" class=\"data row12 col5\" >-0.025208</td>\n",
       "                        <td id=\"T_e40f3_row12_col6\" class=\"data row12 col6\" >-0.002643</td>\n",
       "                        <td id=\"T_e40f3_row12_col7\" class=\"data row12 col7\" >-0.097087</td>\n",
       "                        <td id=\"T_e40f3_row12_col8\" class=\"data row12 col8\" >0.206192</td>\n",
       "                        <td id=\"T_e40f3_row12_col9\" class=\"data row12 col9\" >0.198741</td>\n",
       "                        <td id=\"T_e40f3_row12_col10\" class=\"data row12 col10\" >-0.096630</td>\n",
       "                        <td id=\"T_e40f3_row12_col11\" class=\"data row12 col11\" >0.151860</td>\n",
       "                        <td id=\"T_e40f3_row12_col12\" class=\"data row12 col12\" >1.000000</td>\n",
       "                        <td id=\"T_e40f3_row12_col13\" class=\"data row12 col13\" >-0.340503</td>\n",
       "            </tr>\n",
       "            <tr>\n",
       "                        <th id=\"T_e40f3_level0_row13\" class=\"row_heading level0 row13\" >output</th>\n",
       "                        <td id=\"T_e40f3_row13_col0\" class=\"data row13 col0\" >-0.231584</td>\n",
       "                        <td id=\"T_e40f3_row13_col1\" class=\"data row13 col1\" >-0.288353</td>\n",
       "                        <td id=\"T_e40f3_row13_col2\" class=\"data row13 col2\" >0.428845</td>\n",
       "                        <td id=\"T_e40f3_row13_col3\" class=\"data row13 col3\" >-0.143787</td>\n",
       "                        <td id=\"T_e40f3_row13_col4\" class=\"data row13 col4\" >-0.112667</td>\n",
       "                        <td id=\"T_e40f3_row13_col5\" class=\"data row13 col5\" >-0.035228</td>\n",
       "                        <td id=\"T_e40f3_row13_col6\" class=\"data row13 col6\" >0.139110</td>\n",
       "                        <td id=\"T_e40f3_row13_col7\" class=\"data row13 col7\" >0.421106</td>\n",
       "                        <td id=\"T_e40f3_row13_col8\" class=\"data row13 col8\" >-0.432968</td>\n",
       "                        <td id=\"T_e40f3_row13_col9\" class=\"data row13 col9\" >-0.427227</td>\n",
       "                        <td id=\"T_e40f3_row13_col10\" class=\"data row13 col10\" >0.344538</td>\n",
       "                        <td id=\"T_e40f3_row13_col11\" class=\"data row13 col11\" >-0.401227</td>\n",
       "                        <td id=\"T_e40f3_row13_col12\" class=\"data row13 col12\" >-0.340503</td>\n",
       "                        <td id=\"T_e40f3_row13_col13\" class=\"data row13 col13\" >1.000000</td>\n",
       "            </tr>\n",
       "    </tbody></table>"
      ],
      "text/plain": [
       "<pandas.io.formats.style.Styler at 0x245b1e92b80>"
      ]
     },
     "execution_count": 30,
     "metadata": {},
     "output_type": "execute_result"
    }
   ],
   "source": [
    "#### Creating a correlation matrix to check for multicolliniarity\n",
    "\n",
    "corr = df.corr(method=\"pearson\")\n",
    "corr.style.background_gradient(cmap='Blues')"
   ]
  },
  {
   "cell_type": "markdown",
   "metadata": {},
   "source": [
    "#### Checking for Multicollinearity<br>\n",
    "As a rule of thump correlation should be above 0.7"
   ]
  },
  {
   "cell_type": "code",
   "execution_count": 31,
   "metadata": {},
   "outputs": [
    {
     "data": {
      "text/plain": [
       "'No Multicolliniarity'"
      ]
     },
     "execution_count": 31,
     "metadata": {},
     "output_type": "execute_result"
    }
   ],
   "source": [
    "for i in range(corr.shape[0]):\n",
    "    for j in range(corr.shape[1]):\n",
    "        if i!=j and corr.iloc[i,j] > 0.7:\n",
    "            x = 'There is Multicolliniarity'\n",
    "        else:\n",
    "            x = 'No Multicolliniarity'\n",
    "x"
   ]
  },
  {
   "cell_type": "markdown",
   "metadata": {},
   "source": [
    "### <font color='red'>Machine Learning</font>"
   ]
  },
  {
   "cell_type": "code",
   "execution_count": null,
   "metadata": {},
   "outputs": [],
   "source": [
    "# Some function used as helper for the section\n",
    "\n",
    "def ChangeFromNumericalToBinary(row):\n",
    "    if row >= 0.5:\n",
    "        return 1\n",
    "    else:\n",
    "        return 0\n",
    "    \n",
    "def calculateMatrix(y_test,y_pred):\n",
    "    return accuracy_score(y_test,y_pred), \\\n",
    "           precision_score(y_test,y_pred), \\\n",
    "           recall_score(y_test,y_pred), \\\n",
    "           f1_score(y_test,y_pred)\n",
    "\n",
    "def printMatrixResults(accuracy, recall, precision, f1_score):\n",
    "    print('\\nAccuracy: {:.4}%'.format(str(accuracy*100)))\n",
    "    print('recall: {:.4}%'.format(str(recall*100)))\n",
    "    print('precision: {:.4}%'.format(str(precision*100)))\n",
    "    print('f1 score: {:.4}%'.format(str(f1_score*100)))"
   ]
  },
  {
   "cell_type": "markdown",
   "metadata": {},
   "source": [
    "#### Ordinary least squares Linear Regression (OLS)"
   ]
  },
  {
   "cell_type": "markdown",
   "metadata": {},
   "source": [
    "Treating the problem as a regression task, thresholding the predictions at 0.5"
   ]
  },
  {
   "cell_type": "code",
   "execution_count": 32,
   "metadata": {
    "scrolled": false
   },
   "outputs": [
    {
     "name": "stdout",
     "output_type": "stream",
     "text": [
      "                            OLS Regression Results                            \n",
      "==============================================================================\n",
      "Dep. Variable:                 output   R-squared:                       0.532\n",
      "Model:                            OLS   Adj. R-squared:                  0.503\n",
      "Method:                 Least Squares   F-statistic:                     18.20\n",
      "Date:                Thu, 30 Dec 2021   Prob (F-statistic):           8.15e-28\n",
      "Time:                        17:04:06   Log-Likelihood:                -75.501\n",
      "No. Observations:                 222   AIC:                             179.0\n",
      "Df Residuals:                     208   BIC:                             226.6\n",
      "Df Model:                          13                                         \n",
      "Covariance Type:            nonrobust                                         \n",
      "==============================================================================\n",
      "                 coef    std err          t      P>|t|      [0.025      0.975]\n",
      "------------------------------------------------------------------------------\n",
      "const          1.0299      0.349      2.949      0.004       0.341       1.718\n",
      "age            0.0006      0.003      0.182      0.855      -0.006       0.007\n",
      "sex           -0.2063      0.054     -3.786      0.000      -0.314      -0.099\n",
      "cp             0.1113      0.025      4.397      0.000       0.061       0.161\n",
      "trtbps        -0.0028      0.001     -1.896      0.059      -0.006       0.000\n",
      "chol          -0.0008      0.001     -1.457      0.147      -0.002       0.000\n",
      "fbs            0.0511      0.074      0.695      0.488      -0.094       0.196\n",
      "restecg       -0.0043      0.045     -0.096      0.924      -0.093       0.084\n",
      "thalachh       0.0027      0.001      2.113      0.036       0.000       0.005\n",
      "exng          -0.1376      0.059     -2.324      0.021      -0.254      -0.021\n",
      "oldpeak       -0.0760      0.026     -2.918      0.004      -0.127      -0.025\n",
      "slp            0.0741      0.049      1.508      0.133      -0.023       0.171\n",
      "caa           -0.1291      0.027     -4.858      0.000      -0.182      -0.077\n",
      "thall         -0.0922      0.040     -2.303      0.022      -0.171      -0.013\n",
      "==============================================================================\n",
      "Omnibus:                        2.201   Durbin-Watson:                   2.046\n",
      "Prob(Omnibus):                  0.333   Jarque-Bera (JB):                2.252\n",
      "Skew:                          -0.235   Prob(JB):                        0.324\n",
      "Kurtosis:                       2.851   Cond. No.                     4.74e+03\n",
      "==============================================================================\n",
      "\n",
      "Notes:\n",
      "[1] Standard Errors assume that the covariance matrix of the errors is correctly specified.\n",
      "[2] The condition number is large, 4.74e+03. This might indicate that there are\n",
      "strong multicollinearity or other numerical problems.\n",
      "\n",
      "Accuracy: 57.3%\n",
      "recall: 15.7%\n",
      "precision: 100.%\n",
      "f1 score: 27.2%\n"
     ]
    }
   ],
   "source": [
    "x_ols = df.loc[:,'age':'thall']\n",
    "x_ols = sm.add_constant(x_ols)\n",
    "X_train, X_test, y_train, y_test = train_test_split(x_ols, df['output'], random_state=1)\n",
    "model = sm.OLS(y_train, X_train)\n",
    "model_trained = model.fit()\n",
    "print(model_trained.summary())\n",
    "predictions = model_trained.predict(X_test).astype(int)\n",
    "binary_predictions = predictions.apply(ChangeFromNumericalToBinary)\n",
    "accuracy_ols, precision_ols, recall_ols, f_one_ols = calculateMatrix(y_test,binary_predictions)\n",
    "printMatrixResults(accuracy_ols, recall_ols, precision_ols, f_one_ols)"
   ]
  },
  {
   "cell_type": "markdown",
   "metadata": {},
   "source": [
    "One way to improve our model is backward elimination<br>\n",
    "We remove all the independant variables with a p-value > 0.05 as they are not statistically significant.\n"
   ]
  },
  {
   "cell_type": "code",
   "execution_count": 33,
   "metadata": {
    "scrolled": false
   },
   "outputs": [
    {
     "name": "stdout",
     "output_type": "stream",
     "text": [
      "                            OLS Regression Results                            \n",
      "==============================================================================\n",
      "Dep. Variable:                 output   R-squared:                       0.517\n",
      "Model:                            OLS   Adj. R-squared:                  0.499\n",
      "Method:                 Least Squares   F-statistic:                     28.53\n",
      "Date:                Thu, 30 Dec 2021   Prob (F-statistic):           6.25e-30\n",
      "Time:                        17:04:09   Log-Likelihood:                -78.981\n",
      "No. Observations:                 222   AIC:                             176.0\n",
      "Df Residuals:                     213   BIC:                             206.6\n",
      "Df Model:                           8                                         \n",
      "Covariance Type:            nonrobust                                         \n",
      "==============================================================================\n",
      "                 coef    std err          t      P>|t|      [0.025      0.975]\n",
      "------------------------------------------------------------------------------\n",
      "const          0.5253      0.209      2.517      0.013       0.114       0.937\n",
      "sex           -0.1917      0.054     -3.578      0.000      -0.297      -0.086\n",
      "cp             0.1078      0.025      4.322      0.000       0.059       0.157\n",
      "thalachh       0.0028      0.001      2.338      0.020       0.000       0.005\n",
      "exng          -0.1487      0.059     -2.521      0.012      -0.265      -0.032\n",
      "oldpeak       -0.0804      0.026     -3.116      0.002      -0.131      -0.030\n",
      "slp            0.0657      0.049      1.350      0.179      -0.030       0.162\n",
      "caa           -0.1303      0.026     -5.009      0.000      -0.182      -0.079\n",
      "thall         -0.1039      0.040     -2.611      0.010      -0.182      -0.025\n",
      "==============================================================================\n",
      "Omnibus:                        3.014   Durbin-Watson:                   1.978\n",
      "Prob(Omnibus):                  0.222   Jarque-Bera (JB):                2.763\n",
      "Skew:                          -0.270   Prob(JB):                        0.251\n",
      "Kurtosis:                       3.084   Cond. No.                     1.35e+03\n",
      "==============================================================================\n",
      "\n",
      "Notes:\n",
      "[1] Standard Errors assume that the covariance matrix of the errors is correctly specified.\n",
      "[2] The condition number is large, 1.35e+03. This might indicate that there are\n",
      "strong multicollinearity or other numerical problems.\n",
      "\n",
      "Accuracy: 56.0%\n",
      "recall: 13.1%\n",
      "precision: 100.%\n",
      "f1 score: 23.2%\n"
     ]
    }
   ],
   "source": [
    "list_with_values_ols_2 = ['const','sex','cp','thalachh','exng','oldpeak','slp','caa','thall']\n",
    "\n",
    "model_ols_2 = sm.OLS(y_train, X_train[list_with_values_ols_2])\n",
    "model_trained_ols_2 = model_ols_2.fit()\n",
    "\n",
    "print(model_trained_ols_2.summary())\n",
    "predictions = model_trained_ols_2.predict(X_test[list_with_values_ols_2]).astype(int)\n",
    "binary_predictions_ols_2 = predictions.apply(ChangeFromNumericalToBinary)\n",
    "accuracy_ols_2, precision_ols_2, recall_ols_2, f_one_ols_2 = calculateMatrix(y_test, binary_predictions_ols_2)\n",
    "printMatrixResults(accuracy_ols_2, \n",
    "                            recall_ols_2, \n",
    "                            precision_ols_2, \n",
    "                            f_one_ols_2)\n",
    "# very small changes indicate that the elimination proccess is not effective.\n",
    "# Thus, this model is inefficient."
   ]
  },
  {
   "cell_type": "markdown",
   "metadata": {},
   "source": [
    "All metrics are still low. The problem can not be treated as regression task."
   ]
  },
  {
   "cell_type": "code",
   "execution_count": 34,
   "metadata": {},
   "outputs": [],
   "source": [
    "x = df.loc[:,'age':'thall']\n",
    "X_train, X_test, y_train, y_test = train_test_split(x, df['output'], random_state=1)\n",
    "scaled_values_train = StandardScaler().fit_transform(X_train, y=None)\n",
    "scaled_values_test = StandardScaler().fit_transform(X_test, y=None)"
   ]
  },
  {
   "cell_type": "markdown",
   "metadata": {},
   "source": [
    "#### LogisticRegression"
   ]
  },
  {
   "cell_type": "code",
   "execution_count": 35,
   "metadata": {
    "scrolled": false
   },
   "outputs": [
    {
     "name": "stdout",
     "output_type": "stream",
     "text": [
      "\n",
      "Accuracy: 81.3%\n",
      "recall: 84.2%\n",
      "precision: 80.0%\n",
      "f1 score: 82.0%\n"
     ]
    }
   ],
   "source": [
    "model = LogisticRegression(max_iter=1000).fit(X_train, y_train)\n",
    "y_pred = model.predict(X_test)\n",
    "accuracy_log_reg, precision_log_reg, recall_log_reg, f_one_log_reg = calculateMatrix(y_test, y_pred)\n",
    "printMatrixResults(accuracy_log_reg, \n",
    "                            recall_log_reg, \n",
    "                            precision_log_reg, \n",
    "                            f_one_log_reg)"
   ]
  },
  {
   "cell_type": "markdown",
   "metadata": {},
   "source": [
    "Already the score of the model has improved."
   ]
  },
  {
   "cell_type": "markdown",
   "metadata": {},
   "source": [
    "#### Support Vector Machine Linear"
   ]
  },
  {
   "cell_type": "code",
   "execution_count": 36,
   "metadata": {
    "scrolled": true
   },
   "outputs": [
    {
     "name": "stderr",
     "output_type": "stream",
     "text": [
      "C:\\Users\\ypsilantis\\anaconda3\\lib\\site-packages\\sklearn\\svm\\_base.py:985: ConvergenceWarning: Liblinear failed to converge, increase the number of iterations.\n",
      "  warnings.warn(\"Liblinear failed to converge, increase \"\n"
     ]
    }
   ],
   "source": [
    "model_fit = LinearSVC(max_iter=10000).fit(X_train, y_train) "
   ]
  },
  {
   "cell_type": "markdown",
   "metadata": {},
   "source": [
    "Running again the same model with scaled data"
   ]
  },
  {
   "cell_type": "code",
   "execution_count": 37,
   "metadata": {},
   "outputs": [
    {
     "name": "stdout",
     "output_type": "stream",
     "text": [
      "\n",
      "Accuracy: 84.0%\n",
      "recall: 78.2%\n",
      "precision: 94.7%\n",
      "f1 score: 85.7%\n"
     ]
    }
   ],
   "source": [
    "model_fit = LinearSVC(max_iter=10000).fit(scaled_values_train, y_train)\n",
    "y_pred = model_fit.predict(scaled_values_test)\n",
    "accuracy_svm_lin, precision_svm_lin, recall_svm_lin, f_one_lin = calculateMatrix(y_test, y_pred)\n",
    "printMatrixResults(accuracy_svm_lin,\n",
    "                            precision_svm_lin,\n",
    "                            recall_svm_lin,\n",
    "                            f_one_lin)"
   ]
  },
  {
   "cell_type": "markdown",
   "metadata": {},
   "source": [
    "Linear SVM shows better score that logistic regression."
   ]
  },
  {
   "cell_type": "markdown",
   "metadata": {},
   "source": [
    "#### Support Vector Machine RBF"
   ]
  },
  {
   "cell_type": "code",
   "execution_count": 38,
   "metadata": {
    "scrolled": false
   },
   "outputs": [
    {
     "name": "stdout",
     "output_type": "stream",
     "text": [
      "\n",
      "Accuracy: 80.0%\n",
      "recall: 73.4%\n",
      "precision: 94.7%\n",
      "f1 score: 82.7%\n"
     ]
    }
   ],
   "source": [
    "model_fit = SVC(gamma='scale',C=0.1).fit(scaled_values_train, y_train)\n",
    "y_pred = model_fit.predict(scaled_values_test)\n",
    "accuracy_svm_rbf, precision_svm_rbf, recall_svm_rbf, f_one_rbf = calculateMatrix(y_test, y_pred)\n",
    "printMatrixResults(accuracy_svm_rbf, precision_svm_rbf, recall_svm_rbf, f_one_rbf)"
   ]
  },
  {
   "cell_type": "markdown",
   "metadata": {},
   "source": [
    "Linear kernel is still the best."
   ]
  },
  {
   "cell_type": "markdown",
   "metadata": {},
   "source": [
    "#### MLP Classifier"
   ]
  },
  {
   "cell_type": "code",
   "execution_count": 39,
   "metadata": {
    "scrolled": true
   },
   "outputs": [
    {
     "name": "stdout",
     "output_type": "stream",
     "text": [
      "\n",
      "Accuracy: 78.6%\n",
      "recall: 75.0%\n",
      "precision: 86.8%\n",
      "f1 score: 80.4%\n"
     ]
    }
   ],
   "source": [
    "# check hidden_layer_sizes\n",
    "# 100 neurones kai 4 layers\n",
    "\n",
    "model_fit = MLPClassifier(random_state=1,\n",
    "                          max_iter=100000,\n",
    "                          hidden_layer_sizes=(100,4)).fit(X_train,y_train)\n",
    "\n",
    "y_pred = model_fit.predict(X_test)\n",
    "\n",
    "accuracy_MLP, precision_MLP, recall_MLP, f_one_MLP = calculateMatrix(y_test, y_pred)\n",
    "printMatrixResults(accuracy_MLP, precision_MLP, recall_MLP, f_one_MLP)"
   ]
  },
  {
   "cell_type": "markdown",
   "metadata": {},
   "source": [
    "#### Summary:<br>\n",
    "The aim of this project was to find the best model for predicting heart attack.\n",
    "Models used:<br>\n",
    "* Ordinary least squares Linear Regression (OLS)\n",
    "* LogisticRegression\n",
    "* Support Vector Machine Linear\n",
    "* Support Vector Machine RBF\n",
    "* MLP Classifier\n",
    "\n",
    "The best prediction came from Support Vector Machine RBF (using StandardScaler for the independant variables)."
   ]
  }
 ],
 "metadata": {
  "kernelspec": {
   "display_name": "Python 3",
   "language": "python",
   "name": "python3"
  },
  "language_info": {
   "codemirror_mode": {
    "name": "ipython",
    "version": 3
   },
   "file_extension": ".py",
   "mimetype": "text/x-python",
   "name": "python",
   "nbconvert_exporter": "python",
   "pygments_lexer": "ipython3",
   "version": "3.8.8"
  }
 },
 "nbformat": 4,
 "nbformat_minor": 2
}
